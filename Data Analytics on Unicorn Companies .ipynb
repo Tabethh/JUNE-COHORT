{
 "cells": [
  {
   "cell_type": "markdown",
   "id": "a82c558b",
   "metadata": {},
   "source": [
    "# Data Analytics on Unicorn Companies"
   ]
  },
  {
   "cell_type": "code",
   "execution_count": 1,
   "id": "d77790e4",
   "metadata": {},
   "outputs": [],
   "source": [
    "import numpy as np\n",
    "import pandas as pd\n",
    "\n",
    "import seaborn as sns\n",
    "import matplotlib.pyplot as plt"
   ]
  },
  {
   "cell_type": "code",
   "execution_count": 2,
   "id": "19691522",
   "metadata": {},
   "outputs": [
    {
     "data": {
      "text/html": [
       "<div>\n",
       "<style scoped>\n",
       "    .dataframe tbody tr th:only-of-type {\n",
       "        vertical-align: middle;\n",
       "    }\n",
       "\n",
       "    .dataframe tbody tr th {\n",
       "        vertical-align: top;\n",
       "    }\n",
       "\n",
       "    .dataframe thead th {\n",
       "        text-align: right;\n",
       "    }\n",
       "</style>\n",
       "<table border=\"1\" class=\"dataframe\">\n",
       "  <thead>\n",
       "    <tr style=\"text-align: right;\">\n",
       "      <th></th>\n",
       "      <th>Company</th>\n",
       "      <th>Valuation</th>\n",
       "      <th>Date Joined</th>\n",
       "      <th>Industry</th>\n",
       "      <th>City</th>\n",
       "      <th>Country</th>\n",
       "      <th>Continent</th>\n",
       "      <th>Year Founded</th>\n",
       "      <th>Funding</th>\n",
       "      <th>Select Investors</th>\n",
       "    </tr>\n",
       "  </thead>\n",
       "  <tbody>\n",
       "    <tr>\n",
       "      <th>0</th>\n",
       "      <td>Bytedance</td>\n",
       "      <td>$180B</td>\n",
       "      <td>2017-04-07</td>\n",
       "      <td>Artificial intelligence</td>\n",
       "      <td>Beijing</td>\n",
       "      <td>China</td>\n",
       "      <td>Asia</td>\n",
       "      <td>2012</td>\n",
       "      <td>$8B</td>\n",
       "      <td>Sequoia Capital China, SIG Asia Investments, S...</td>\n",
       "    </tr>\n",
       "    <tr>\n",
       "      <th>1</th>\n",
       "      <td>SpaceX</td>\n",
       "      <td>$100B</td>\n",
       "      <td>2012-12-01</td>\n",
       "      <td>Other</td>\n",
       "      <td>Hawthorne</td>\n",
       "      <td>United States</td>\n",
       "      <td>North America</td>\n",
       "      <td>2002</td>\n",
       "      <td>$7B</td>\n",
       "      <td>Founders Fund, Draper Fisher Jurvetson, Rothen...</td>\n",
       "    </tr>\n",
       "    <tr>\n",
       "      <th>2</th>\n",
       "      <td>SHEIN</td>\n",
       "      <td>$100B</td>\n",
       "      <td>2018-07-03</td>\n",
       "      <td>E-commerce &amp; direct-to-consumer</td>\n",
       "      <td>Shenzhen</td>\n",
       "      <td>China</td>\n",
       "      <td>Asia</td>\n",
       "      <td>2008</td>\n",
       "      <td>$2B</td>\n",
       "      <td>Tiger Global Management, Sequoia Capital China...</td>\n",
       "    </tr>\n",
       "    <tr>\n",
       "      <th>3</th>\n",
       "      <td>Stripe</td>\n",
       "      <td>$95B</td>\n",
       "      <td>2014-01-23</td>\n",
       "      <td>Fintech</td>\n",
       "      <td>San Francisco</td>\n",
       "      <td>United States</td>\n",
       "      <td>North America</td>\n",
       "      <td>2010</td>\n",
       "      <td>$2B</td>\n",
       "      <td>Khosla Ventures, LowercaseCapital, capitalG</td>\n",
       "    </tr>\n",
       "    <tr>\n",
       "      <th>4</th>\n",
       "      <td>Klarna</td>\n",
       "      <td>$46B</td>\n",
       "      <td>2011-12-12</td>\n",
       "      <td>Fintech</td>\n",
       "      <td>Stockholm</td>\n",
       "      <td>Sweden</td>\n",
       "      <td>Europe</td>\n",
       "      <td>2005</td>\n",
       "      <td>$4B</td>\n",
       "      <td>Institutional Venture Partners, Sequoia Capita...</td>\n",
       "    </tr>\n",
       "    <tr>\n",
       "      <th>...</th>\n",
       "      <td>...</td>\n",
       "      <td>...</td>\n",
       "      <td>...</td>\n",
       "      <td>...</td>\n",
       "      <td>...</td>\n",
       "      <td>...</td>\n",
       "      <td>...</td>\n",
       "      <td>...</td>\n",
       "      <td>...</td>\n",
       "      <td>...</td>\n",
       "    </tr>\n",
       "    <tr>\n",
       "      <th>1069</th>\n",
       "      <td>Zhaogang</td>\n",
       "      <td>$1B</td>\n",
       "      <td>2017-06-29</td>\n",
       "      <td>E-commerce &amp; direct-to-consumer</td>\n",
       "      <td>Shanghai</td>\n",
       "      <td>China</td>\n",
       "      <td>Asia</td>\n",
       "      <td>2012</td>\n",
       "      <td>$379M</td>\n",
       "      <td>K2 Ventures, Matrix Partners China, IDG Capital</td>\n",
       "    </tr>\n",
       "    <tr>\n",
       "      <th>1070</th>\n",
       "      <td>Zhuan Zhuan</td>\n",
       "      <td>$1B</td>\n",
       "      <td>2017-04-18</td>\n",
       "      <td>E-commerce &amp; direct-to-consumer</td>\n",
       "      <td>Beijing</td>\n",
       "      <td>China</td>\n",
       "      <td>Asia</td>\n",
       "      <td>2015</td>\n",
       "      <td>$990M</td>\n",
       "      <td>58.com, Tencent Holdings</td>\n",
       "    </tr>\n",
       "    <tr>\n",
       "      <th>1071</th>\n",
       "      <td>Zihaiguo</td>\n",
       "      <td>$1B</td>\n",
       "      <td>2021-05-06</td>\n",
       "      <td>Consumer &amp; retail</td>\n",
       "      <td>Chongqing</td>\n",
       "      <td>China</td>\n",
       "      <td>Asia</td>\n",
       "      <td>2018</td>\n",
       "      <td>$80M</td>\n",
       "      <td>Xingwang Investment Management, China Capital ...</td>\n",
       "    </tr>\n",
       "    <tr>\n",
       "      <th>1072</th>\n",
       "      <td>Zopa</td>\n",
       "      <td>$1B</td>\n",
       "      <td>2021-10-19</td>\n",
       "      <td>Fintech</td>\n",
       "      <td>London</td>\n",
       "      <td>United Kingdom</td>\n",
       "      <td>Europe</td>\n",
       "      <td>2005</td>\n",
       "      <td>$792M</td>\n",
       "      <td>IAG Capital Partners, Augmentum Fintech, North...</td>\n",
       "    </tr>\n",
       "    <tr>\n",
       "      <th>1073</th>\n",
       "      <td>Zwift</td>\n",
       "      <td>$1B</td>\n",
       "      <td>2020-09-16</td>\n",
       "      <td>E-commerce &amp; direct-to-consumer</td>\n",
       "      <td>Long Beach</td>\n",
       "      <td>United States</td>\n",
       "      <td>North America</td>\n",
       "      <td>2014</td>\n",
       "      <td>$620M</td>\n",
       "      <td>Novator Partners, True, Causeway Media Partners</td>\n",
       "    </tr>\n",
       "  </tbody>\n",
       "</table>\n",
       "<p>1074 rows × 10 columns</p>\n",
       "</div>"
      ],
      "text/plain": [
       "          Company Valuation Date Joined                         Industry  \\\n",
       "0       Bytedance     $180B  2017-04-07          Artificial intelligence   \n",
       "1          SpaceX     $100B  2012-12-01                            Other   \n",
       "2           SHEIN     $100B  2018-07-03  E-commerce & direct-to-consumer   \n",
       "3          Stripe      $95B  2014-01-23                          Fintech   \n",
       "4          Klarna      $46B  2011-12-12                          Fintech   \n",
       "...           ...       ...         ...                              ...   \n",
       "1069     Zhaogang       $1B  2017-06-29  E-commerce & direct-to-consumer   \n",
       "1070  Zhuan Zhuan       $1B  2017-04-18  E-commerce & direct-to-consumer   \n",
       "1071     Zihaiguo       $1B  2021-05-06                Consumer & retail   \n",
       "1072         Zopa       $1B  2021-10-19                          Fintech   \n",
       "1073        Zwift       $1B  2020-09-16  E-commerce & direct-to-consumer   \n",
       "\n",
       "               City         Country      Continent  Year Founded Funding  \\\n",
       "0           Beijing           China           Asia          2012     $8B   \n",
       "1         Hawthorne   United States  North America          2002     $7B   \n",
       "2          Shenzhen           China           Asia          2008     $2B   \n",
       "3     San Francisco   United States  North America          2010     $2B   \n",
       "4         Stockholm          Sweden         Europe          2005     $4B   \n",
       "...             ...             ...            ...           ...     ...   \n",
       "1069       Shanghai           China           Asia          2012   $379M   \n",
       "1070        Beijing           China           Asia          2015   $990M   \n",
       "1071      Chongqing           China           Asia          2018    $80M   \n",
       "1072         London  United Kingdom         Europe          2005   $792M   \n",
       "1073     Long Beach   United States  North America          2014   $620M   \n",
       "\n",
       "                                       Select Investors  \n",
       "0     Sequoia Capital China, SIG Asia Investments, S...  \n",
       "1     Founders Fund, Draper Fisher Jurvetson, Rothen...  \n",
       "2     Tiger Global Management, Sequoia Capital China...  \n",
       "3           Khosla Ventures, LowercaseCapital, capitalG  \n",
       "4     Institutional Venture Partners, Sequoia Capita...  \n",
       "...                                                 ...  \n",
       "1069    K2 Ventures, Matrix Partners China, IDG Capital  \n",
       "1070                           58.com, Tencent Holdings  \n",
       "1071  Xingwang Investment Management, China Capital ...  \n",
       "1072  IAG Capital Partners, Augmentum Fintech, North...  \n",
       "1073    Novator Partners, True, Causeway Media Partners  \n",
       "\n",
       "[1074 rows x 10 columns]"
      ]
     },
     "execution_count": 2,
     "metadata": {},
     "output_type": "execute_result"
    }
   ],
   "source": [
    "unicorn_data = pd.read_csv(r'C:\\Users\\ADMIN\\Desktop\\Quantum\\PYTHON\\Unicorn_Companies.csv')\n",
    "unicorn_data"
   ]
  },
  {
   "cell_type": "code",
   "execution_count": 3,
   "id": "18ab2ed1",
   "metadata": {},
   "outputs": [
    {
     "data": {
      "text/plain": [
       "(1074, 10)"
      ]
     },
     "execution_count": 3,
     "metadata": {},
     "output_type": "execute_result"
    }
   ],
   "source": [
    "unicorn_data.shape"
   ]
  },
  {
   "cell_type": "code",
   "execution_count": 4,
   "id": "3259855d",
   "metadata": {},
   "outputs": [
    {
     "data": {
      "text/plain": [
       "Index(['Company', 'Valuation', 'Date Joined', 'Industry', 'City', 'Country',\n",
       "       'Continent', 'Year Founded', 'Funding', 'Select Investors'],\n",
       "      dtype='object')"
      ]
     },
     "execution_count": 4,
     "metadata": {},
     "output_type": "execute_result"
    }
   ],
   "source": [
    "unicorn_data.columns"
   ]
  },
  {
   "cell_type": "code",
   "execution_count": 5,
   "id": "859d971e",
   "metadata": {},
   "outputs": [
    {
     "data": {
      "text/plain": [
       "Company             object\n",
       "Valuation           object\n",
       "Date Joined         object\n",
       "Industry            object\n",
       "City                object\n",
       "Country             object\n",
       "Continent           object\n",
       "Year Founded         int64\n",
       "Funding             object\n",
       "Select Investors    object\n",
       "dtype: object"
      ]
     },
     "execution_count": 5,
     "metadata": {},
     "output_type": "execute_result"
    }
   ],
   "source": [
    "unicorn_data.dtypes"
   ]
  },
  {
   "cell_type": "code",
   "execution_count": 6,
   "id": "15f95aef",
   "metadata": {},
   "outputs": [
    {
     "name": "stdout",
     "output_type": "stream",
     "text": [
      "<class 'pandas.core.frame.DataFrame'>\n",
      "RangeIndex: 1074 entries, 0 to 1073\n",
      "Data columns (total 10 columns):\n",
      " #   Column            Non-Null Count  Dtype \n",
      "---  ------            --------------  ----- \n",
      " 0   Company           1074 non-null   object\n",
      " 1   Valuation         1074 non-null   object\n",
      " 2   Date Joined       1074 non-null   object\n",
      " 3   Industry          1074 non-null   object\n",
      " 4   City              1058 non-null   object\n",
      " 5   Country           1074 non-null   object\n",
      " 6   Continent         1074 non-null   object\n",
      " 7   Year Founded      1074 non-null   int64 \n",
      " 8   Funding           1074 non-null   object\n",
      " 9   Select Investors  1073 non-null   object\n",
      "dtypes: int64(1), object(9)\n",
      "memory usage: 84.0+ KB\n"
     ]
    }
   ],
   "source": [
    "unicorn_data.info()"
   ]
  },
  {
   "cell_type": "code",
   "execution_count": 7,
   "id": "e35dc4fd",
   "metadata": {},
   "outputs": [
    {
     "data": {
      "text/html": [
       "<div>\n",
       "<style scoped>\n",
       "    .dataframe tbody tr th:only-of-type {\n",
       "        vertical-align: middle;\n",
       "    }\n",
       "\n",
       "    .dataframe tbody tr th {\n",
       "        vertical-align: top;\n",
       "    }\n",
       "\n",
       "    .dataframe thead th {\n",
       "        text-align: right;\n",
       "    }\n",
       "</style>\n",
       "<table border=\"1\" class=\"dataframe\">\n",
       "  <thead>\n",
       "    <tr style=\"text-align: right;\">\n",
       "      <th></th>\n",
       "      <th>Year Founded</th>\n",
       "    </tr>\n",
       "  </thead>\n",
       "  <tbody>\n",
       "    <tr>\n",
       "      <th>count</th>\n",
       "      <td>1074.000000</td>\n",
       "    </tr>\n",
       "    <tr>\n",
       "      <th>mean</th>\n",
       "      <td>2012.895717</td>\n",
       "    </tr>\n",
       "    <tr>\n",
       "      <th>std</th>\n",
       "      <td>5.698573</td>\n",
       "    </tr>\n",
       "    <tr>\n",
       "      <th>min</th>\n",
       "      <td>1919.000000</td>\n",
       "    </tr>\n",
       "    <tr>\n",
       "      <th>25%</th>\n",
       "      <td>2011.000000</td>\n",
       "    </tr>\n",
       "    <tr>\n",
       "      <th>50%</th>\n",
       "      <td>2014.000000</td>\n",
       "    </tr>\n",
       "    <tr>\n",
       "      <th>75%</th>\n",
       "      <td>2016.000000</td>\n",
       "    </tr>\n",
       "    <tr>\n",
       "      <th>max</th>\n",
       "      <td>2021.000000</td>\n",
       "    </tr>\n",
       "  </tbody>\n",
       "</table>\n",
       "</div>"
      ],
      "text/plain": [
       "       Year Founded\n",
       "count   1074.000000\n",
       "mean    2012.895717\n",
       "std        5.698573\n",
       "min     1919.000000\n",
       "25%     2011.000000\n",
       "50%     2014.000000\n",
       "75%     2016.000000\n",
       "max     2021.000000"
      ]
     },
     "execution_count": 7,
     "metadata": {},
     "output_type": "execute_result"
    }
   ],
   "source": [
    "unicorn_data.describe()"
   ]
  },
  {
   "cell_type": "code",
   "execution_count": 13,
   "id": "da01474f",
   "metadata": {},
   "outputs": [
    {
     "name": "stderr",
     "output_type": "stream",
     "text": [
      "C:\\Users\\ADMIN\\AppData\\Local\\Temp\\ipykernel_14244\\640650081.py:1: FutureWarning: The default value of numeric_only in DataFrame.corr is deprecated. In a future version, it will default to False. Select only valid columns or specify the value of numeric_only to silence this warning.\n",
      "  sns.heatmap(unicorn_data.corr(), annot=True)\n"
     ]
    },
    {
     "data": {
      "text/plain": [
       "<Axes: >"
      ]
     },
     "execution_count": 13,
     "metadata": {},
     "output_type": "execute_result"
    },
    {
     "data": {
      "image/png": "[encoded data removed]",
      "text/plain": [
       "<Figure size 640x480 with 2 Axes>"
      ]
     },
     "metadata": {},
     "output_type": "display_data"
    }
   ],
   "source": [
    "sns.heatmap(unicorn_data.corr(), annot=True)\n"
   ]
  },
  {
   "cell_type": "code",
   "execution_count": 8,
   "id": "fa7391cb",
   "metadata": {},
   "outputs": [
    {
     "data": {
      "text/plain": [
       "Company              0\n",
       "Valuation            0\n",
       "Date Joined          0\n",
       "Industry             0\n",
       "City                16\n",
       "Country              0\n",
       "Continent            0\n",
       "Year Founded         0\n",
       "Funding              0\n",
       "Select Investors     1\n",
       "dtype: int64"
      ]
     },
     "execution_count": 8,
     "metadata": {},
     "output_type": "execute_result"
    }
   ],
   "source": [
    "unicorn_data.isnull().sum()"
   ]
  },
  {
   "cell_type": "code",
   "execution_count": 11,
   "id": "5dd9e08d",
   "metadata": {},
   "outputs": [
    {
     "data": {
      "text/html": [
       "<div>\n",
       "<style scoped>\n",
       "    .dataframe tbody tr th:only-of-type {\n",
       "        vertical-align: middle;\n",
       "    }\n",
       "\n",
       "    .dataframe tbody tr th {\n",
       "        vertical-align: top;\n",
       "    }\n",
       "\n",
       "    .dataframe thead th {\n",
       "        text-align: right;\n",
       "    }\n",
       "</style>\n",
       "<table border=\"1\" class=\"dataframe\">\n",
       "  <thead>\n",
       "    <tr style=\"text-align: right;\">\n",
       "      <th></th>\n",
       "      <th>Company</th>\n",
       "      <th>Valuation</th>\n",
       "      <th>Date Joined</th>\n",
       "      <th>Industry</th>\n",
       "      <th>City</th>\n",
       "      <th>Country</th>\n",
       "      <th>Continent</th>\n",
       "      <th>Year Founded</th>\n",
       "      <th>Funding</th>\n",
       "      <th>Select Investors</th>\n",
       "      <th>Unnamed: 10</th>\n",
       "      <th>Unnamed: 11</th>\n",
       "      <th>Unnamed: 12</th>\n",
       "      <th>Unnamed: 13</th>\n",
       "      <th>Unnamed: 14</th>\n",
       "      <th>Unnamed: 15</th>\n",
       "    </tr>\n",
       "  </thead>\n",
       "  <tbody>\n",
       "    <tr>\n",
       "      <th>0</th>\n",
       "      <td>Bytedance</td>\n",
       "      <td>$180B</td>\n",
       "      <td>4/7/2017</td>\n",
       "      <td>Artificial intelligence</td>\n",
       "      <td>Beijing</td>\n",
       "      <td>China</td>\n",
       "      <td>Asia</td>\n",
       "      <td>2012</td>\n",
       "      <td>$8B</td>\n",
       "      <td>Sequoia Capital China, SIG Asia Investments, S...</td>\n",
       "      <td>0.0</td>\n",
       "      <td>0.0</td>\n",
       "      <td>0.0</td>\n",
       "      <td>0.0</td>\n",
       "      <td>0.0</td>\n",
       "      <td>0</td>\n",
       "    </tr>\n",
       "    <tr>\n",
       "      <th>1</th>\n",
       "      <td>SpaceX</td>\n",
       "      <td>$100B</td>\n",
       "      <td>12/1/2012</td>\n",
       "      <td>Other</td>\n",
       "      <td>Hawthorne</td>\n",
       "      <td>United States</td>\n",
       "      <td>North America</td>\n",
       "      <td>2002</td>\n",
       "      <td>$7B</td>\n",
       "      <td>Founders Fund, Draper Fisher Jurvetson, Rothen...</td>\n",
       "      <td>0.0</td>\n",
       "      <td>0.0</td>\n",
       "      <td>0.0</td>\n",
       "      <td>0.0</td>\n",
       "      <td>0.0</td>\n",
       "      <td>0</td>\n",
       "    </tr>\n",
       "    <tr>\n",
       "      <th>2</th>\n",
       "      <td>SHEIN</td>\n",
       "      <td>$100B</td>\n",
       "      <td>7/3/2018</td>\n",
       "      <td>E-commerce &amp; direct-to-consumer</td>\n",
       "      <td>Shenzhen</td>\n",
       "      <td>China</td>\n",
       "      <td>Asia</td>\n",
       "      <td>2008</td>\n",
       "      <td>$2B</td>\n",
       "      <td>Tiger Global Management, Sequoia Capital China...</td>\n",
       "      <td>0.0</td>\n",
       "      <td>0.0</td>\n",
       "      <td>0.0</td>\n",
       "      <td>0.0</td>\n",
       "      <td>0.0</td>\n",
       "      <td>0</td>\n",
       "    </tr>\n",
       "    <tr>\n",
       "      <th>3</th>\n",
       "      <td>Stripe</td>\n",
       "      <td>$95B</td>\n",
       "      <td>1/23/2014</td>\n",
       "      <td>Fintech</td>\n",
       "      <td>San Francisco</td>\n",
       "      <td>United States</td>\n",
       "      <td>North America</td>\n",
       "      <td>2010</td>\n",
       "      <td>$2B</td>\n",
       "      <td>Khosla Ventures, LowercaseCapital, capitalG</td>\n",
       "      <td>0.0</td>\n",
       "      <td>0.0</td>\n",
       "      <td>0.0</td>\n",
       "      <td>0.0</td>\n",
       "      <td>0.0</td>\n",
       "      <td>0</td>\n",
       "    </tr>\n",
       "    <tr>\n",
       "      <th>4</th>\n",
       "      <td>Klarna</td>\n",
       "      <td>$46B</td>\n",
       "      <td>12/12/2011</td>\n",
       "      <td>Fintech</td>\n",
       "      <td>Stockholm</td>\n",
       "      <td>Sweden</td>\n",
       "      <td>Europe</td>\n",
       "      <td>2005</td>\n",
       "      <td>$4B</td>\n",
       "      <td>Institutional Venture Partners, Sequoia Capita...</td>\n",
       "      <td>0.0</td>\n",
       "      <td>0.0</td>\n",
       "      <td>0.0</td>\n",
       "      <td>0.0</td>\n",
       "      <td>0.0</td>\n",
       "      <td>0</td>\n",
       "    </tr>\n",
       "    <tr>\n",
       "      <th>...</th>\n",
       "      <td>...</td>\n",
       "      <td>...</td>\n",
       "      <td>...</td>\n",
       "      <td>...</td>\n",
       "      <td>...</td>\n",
       "      <td>...</td>\n",
       "      <td>...</td>\n",
       "      <td>...</td>\n",
       "      <td>...</td>\n",
       "      <td>...</td>\n",
       "      <td>...</td>\n",
       "      <td>...</td>\n",
       "      <td>...</td>\n",
       "      <td>...</td>\n",
       "      <td>...</td>\n",
       "      <td>...</td>\n",
       "    </tr>\n",
       "    <tr>\n",
       "      <th>1053</th>\n",
       "      <td>Zhaogang</td>\n",
       "      <td>$1B</td>\n",
       "      <td>6/29/2017</td>\n",
       "      <td>E-commerce &amp; direct-to-consumer</td>\n",
       "      <td>Shanghai</td>\n",
       "      <td>China</td>\n",
       "      <td>Asia</td>\n",
       "      <td>2012</td>\n",
       "      <td>$379M</td>\n",
       "      <td>K2 Ventures, Matrix Partners China, IDG Capital</td>\n",
       "      <td>0.0</td>\n",
       "      <td>0.0</td>\n",
       "      <td>0.0</td>\n",
       "      <td>0.0</td>\n",
       "      <td>0.0</td>\n",
       "      <td>0</td>\n",
       "    </tr>\n",
       "    <tr>\n",
       "      <th>1054</th>\n",
       "      <td>Zhuan Zhuan</td>\n",
       "      <td>$1B</td>\n",
       "      <td>4/18/2017</td>\n",
       "      <td>E-commerce &amp; direct-to-consumer</td>\n",
       "      <td>Beijing</td>\n",
       "      <td>China</td>\n",
       "      <td>Asia</td>\n",
       "      <td>2015</td>\n",
       "      <td>$990M</td>\n",
       "      <td>58.com, Tencent Holdings</td>\n",
       "      <td>0.0</td>\n",
       "      <td>0.0</td>\n",
       "      <td>0.0</td>\n",
       "      <td>0.0</td>\n",
       "      <td>0.0</td>\n",
       "      <td>0</td>\n",
       "    </tr>\n",
       "    <tr>\n",
       "      <th>1055</th>\n",
       "      <td>Zihaiguo</td>\n",
       "      <td>$1B</td>\n",
       "      <td>5/6/2021</td>\n",
       "      <td>Consumer &amp; retail</td>\n",
       "      <td>Chongqing</td>\n",
       "      <td>China</td>\n",
       "      <td>Asia</td>\n",
       "      <td>2018</td>\n",
       "      <td>$80M</td>\n",
       "      <td>Xingwang Investment Management, China Capital ...</td>\n",
       "      <td>0.0</td>\n",
       "      <td>0.0</td>\n",
       "      <td>0.0</td>\n",
       "      <td>0.0</td>\n",
       "      <td>0.0</td>\n",
       "      <td>0</td>\n",
       "    </tr>\n",
       "    <tr>\n",
       "      <th>1056</th>\n",
       "      <td>Zopa</td>\n",
       "      <td>$1B</td>\n",
       "      <td>10/19/2021</td>\n",
       "      <td>Fintech</td>\n",
       "      <td>London</td>\n",
       "      <td>United Kingdom</td>\n",
       "      <td>Europe</td>\n",
       "      <td>2005</td>\n",
       "      <td>$792M</td>\n",
       "      <td>IAG Capital Partners, Augmentum Fintech, North...</td>\n",
       "      <td>0.0</td>\n",
       "      <td>0.0</td>\n",
       "      <td>0.0</td>\n",
       "      <td>0.0</td>\n",
       "      <td>0.0</td>\n",
       "      <td>0</td>\n",
       "    </tr>\n",
       "    <tr>\n",
       "      <th>1057</th>\n",
       "      <td>Zwift</td>\n",
       "      <td>$1B</td>\n",
       "      <td>9/16/2020</td>\n",
       "      <td>E-commerce &amp; direct-to-consumer</td>\n",
       "      <td>Long Beach</td>\n",
       "      <td>United States</td>\n",
       "      <td>North America</td>\n",
       "      <td>2014</td>\n",
       "      <td>$620M</td>\n",
       "      <td>Novator Partners, True, Causeway Media Partners</td>\n",
       "      <td>0.0</td>\n",
       "      <td>0.0</td>\n",
       "      <td>0.0</td>\n",
       "      <td>0.0</td>\n",
       "      <td>0.0</td>\n",
       "      <td>0</td>\n",
       "    </tr>\n",
       "  </tbody>\n",
       "</table>\n",
       "<p>1058 rows × 16 columns</p>\n",
       "</div>"
      ],
      "text/plain": [
       "          Company Valuation Date Joined                         Industry  \\\n",
       "0       Bytedance     $180B    4/7/2017          Artificial intelligence   \n",
       "1          SpaceX     $100B   12/1/2012                            Other   \n",
       "2           SHEIN     $100B    7/3/2018  E-commerce & direct-to-consumer   \n",
       "3          Stripe      $95B   1/23/2014                          Fintech   \n",
       "4          Klarna      $46B  12/12/2011                          Fintech   \n",
       "...           ...       ...         ...                              ...   \n",
       "1053     Zhaogang       $1B   6/29/2017  E-commerce & direct-to-consumer   \n",
       "1054  Zhuan Zhuan       $1B   4/18/2017  E-commerce & direct-to-consumer   \n",
       "1055     Zihaiguo       $1B    5/6/2021                Consumer & retail   \n",
       "1056         Zopa       $1B  10/19/2021                          Fintech   \n",
       "1057        Zwift       $1B   9/16/2020  E-commerce & direct-to-consumer   \n",
       "\n",
       "               City         Country      Continent  Year Founded Funding  \\\n",
       "0           Beijing           China           Asia          2012     $8B   \n",
       "1         Hawthorne   United States  North America          2002     $7B   \n",
       "2          Shenzhen           China           Asia          2008     $2B   \n",
       "3     San Francisco   United States  North America          2010     $2B   \n",
       "4         Stockholm          Sweden         Europe          2005     $4B   \n",
       "...             ...             ...            ...           ...     ...   \n",
       "1053       Shanghai           China           Asia          2012   $379M   \n",
       "1054        Beijing           China           Asia          2015   $990M   \n",
       "1055      Chongqing           China           Asia          2018    $80M   \n",
       "1056         London  United Kingdom         Europe          2005   $792M   \n",
       "1057     Long Beach   United States  North America          2014   $620M   \n",
       "\n",
       "                                       Select Investors  Unnamed: 10  \\\n",
       "0     Sequoia Capital China, SIG Asia Investments, S...          0.0   \n",
       "1     Founders Fund, Draper Fisher Jurvetson, Rothen...          0.0   \n",
       "2     Tiger Global Management, Sequoia Capital China...          0.0   \n",
       "3           Khosla Ventures, LowercaseCapital, capitalG          0.0   \n",
       "4     Institutional Venture Partners, Sequoia Capita...          0.0   \n",
       "...                                                 ...          ...   \n",
       "1053    K2 Ventures, Matrix Partners China, IDG Capital          0.0   \n",
       "1054                           58.com, Tencent Holdings          0.0   \n",
       "1055  Xingwang Investment Management, China Capital ...          0.0   \n",
       "1056  IAG Capital Partners, Augmentum Fintech, North...          0.0   \n",
       "1057    Novator Partners, True, Causeway Media Partners          0.0   \n",
       "\n",
       "      Unnamed: 11  Unnamed: 12  Unnamed: 13  Unnamed: 14 Unnamed: 15  \n",
       "0             0.0          0.0          0.0          0.0           0  \n",
       "1             0.0          0.0          0.0          0.0           0  \n",
       "2             0.0          0.0          0.0          0.0           0  \n",
       "3             0.0          0.0          0.0          0.0           0  \n",
       "4             0.0          0.0          0.0          0.0           0  \n",
       "...           ...          ...          ...          ...         ...  \n",
       "1053          0.0          0.0          0.0          0.0           0  \n",
       "1054          0.0          0.0          0.0          0.0           0  \n",
       "1055          0.0          0.0          0.0          0.0           0  \n",
       "1056          0.0          0.0          0.0          0.0           0  \n",
       "1057          0.0          0.0          0.0          0.0           0  \n",
       "\n",
       "[1058 rows x 16 columns]"
      ]
     },
     "execution_count": 11,
     "metadata": {},
     "output_type": "execute_result"
    }
   ],
   "source": [
    "unicorn_data.fillna(0)"
   ]
  },
  {
   "cell_type": "code",
   "execution_count": 15,
   "id": "abb90b3f",
   "metadata": {},
   "outputs": [
    {
     "data": {
      "text/plain": [
       "Company              0\n",
       "Valuation            0\n",
       "Date Joined          0\n",
       "Industry             0\n",
       "City                16\n",
       "Country              0\n",
       "Continent            0\n",
       "Year Founded         0\n",
       "Funding              0\n",
       "Select Investors     1\n",
       "dtype: int64"
      ]
     },
     "execution_count": 15,
     "metadata": {},
     "output_type": "execute_result"
    }
   ],
   "source": [
    "unicorn_data.isnull().sum()"
   ]
  },
  {
   "cell_type": "code",
   "execution_count": 10,
   "id": "ec829289",
   "metadata": {},
   "outputs": [
    {
     "name": "stdout",
     "output_type": "stream",
     "text": [
      "      Company          ROI\n",
      "7  Databricks  2375.000000\n",
      "9   Instacart   923.076923\n",
      "8   Snowflake   884.210526\n",
      "5      Klarna   735.483871\n",
      "3       Shein   632.911392\n"
     ]
    }
   ],
   "source": [
    "\n",
    "\n",
    "# Create a DataFrame of unicorn companies\n",
    "unicorn_data = pd.DataFrame({\n",
    "    'Company': ['ByteDance', 'Stripe', 'SpaceX', 'Shein', 'Ant Group', 'Klarna', 'Rivian', 'Databricks', 'Snowflake', 'Instacart'],\n",
    "    'Current Valuation ($ Billion)': [140, 95, 100, 100, 68.6, 45.6, 29.3, 38, 33.6, 24],\n",
    "    'Funding ($ Billion)': [45.8, 68, 332.5, 15.8, 171.8, 6.2, 11.5, 1.6, 3.8, 2.6],\n",
    "    'Country of Origin': ['China', 'United States', 'United States', 'China', 'China', 'Sweden', 'United States', 'United States', 'United States', 'United States'],\n",
    "    'Industry': ['Technology', 'Payments', 'Aerospace', 'Retail', 'Financial Technology', 'Financial Technology', 'Automotive', 'Data Analytics', 'Cloud Computing', 'Grocery Delivery'],\n",
    "    'Select Investors': ['SoftBank, Sequoia Capital, General Atlantic', 'Andreessen Horowitz, Sequoia Capital, Tiger Global Management', 'Sequoia Capital, Founders Fund, Andreessen Horowitz', 'Sequoia Capital, General Atlantic, Tiger Global Management', 'Alibaba Group, SoftBank, Hillhouse Capital', 'SoftBank, Sequoia Capital, Dragoneer Investment Group', 'Amazon, Ford Motor Company, Cox Automotive', 'Andreessen Horowitz, New Enterprise Associates, Fidelity Investments', 'Salesforce, Sequoia Capital, Snowflake Capital', 'Sequoia Capital, Andreessen Horowitz, D1 Capital Partners'],\n",
    "    'Founded': [2012, 2010, 2002, 2008, 2014, 2005, 2009, 2013, 2012, 2012],\n",
    "    'Became Unicorn': [2018, 2016, 2012, 2021, 2015, 2016, 2019, 2017, 2018, 2015]\n",
    "})\n",
    "\n",
    "# Calculate the return on investment (ROI) for each company\n",
    "unicorn_data['ROI'] = (unicorn_data['Current Valuation ($ Billion)'] / unicorn_data['Funding ($ Billion)']) * 100\n",
    "\n",
    "# Sort the DataFrame by ROI in descending order\n",
    "unicorn_data_sorted_by_roi = unicorn_data.sort_values(by='ROI', ascending=False)\n",
    "\n",
    "# Print the top 5 companies by ROI\n",
    "print(unicorn_data_sorted_by_roi[['Company', 'ROI']].head(5))\n",
    "\n"
   ]
  },
  {
   "cell_type": "code",
   "execution_count": 13,
   "id": "fe5fc87d",
   "metadata": {},
   "outputs": [
    {
     "name": "stdout",
     "output_type": "stream",
     "text": [
      "The average time it takes for a company to become a unicorn is 7.0 years.\n",
      "The average time to unicorn status has decreased over time.\n"
     ]
    }
   ],
   "source": [
    "import pandas as pd\n",
    "\n",
    "# Calculate the time it took each company to become a unicorn\n",
    "unicorn_data['Time to Unicorn (Years)'] = unicorn_data['Became Unicorn'] - unicorn_data['Founded']\n",
    "\n",
    "# Calculate the average time to unicorn status\n",
    "average_time_to_unicorn = unicorn_data['Time to Unicorn (Years)'].mean()\n",
    "\n",
    "# Print the average time to unicorn status\n",
    "print(\"The average time it takes for a company to become a unicorn is\", average_time_to_unicorn, \"years.\")\n",
    "\n",
    "# Analyze whether the average time to unicorn status has changed over time\n",
    "# Divide the unicorn data into two groups: pre-2010 and post-2010\n",
    "unicorn_data_pre_2010 = unicorn_data[unicorn_data['Founded'] < 2010]\n",
    "unicorn_data_post_2010 = unicorn_data[unicorn_data['Founded'] >= 2010]\n",
    "\n",
    "# Calculate the average time to unicorn status for each group\n",
    "average_time_to_unicorn_pre_2010 = unicorn_data_pre_2010['Time to Unicorn (Years)'].mean()\n",
    "average_time_to_unicorn_post_2010 = unicorn_data_post_2010['Time to Unicorn (Years)'].mean()\n",
    "\n",
    "# Compare the average times to unicorn status for each group\n",
    "if average_time_to_unicorn_pre_2010 > average_time_to_unicorn_post_2010:\n",
    "    print(\"The average time to unicorn status has decreased over time.\")\n",
    "elif average_time_to_unicorn_pre_2010 < average_time_to_unicorn_post_2010:\n",
    "    print(\"The average time to unicorn status has increased over time.\")\n",
    "else:\n",
    "    print(\"The average time to unicorn status has remained relatively constant over time.\")\n",
    "\n"
   ]
  },
  {
   "cell_type": "code",
   "execution_count": 22,
   "id": "4e9aaf5c",
   "metadata": {},
   "outputs": [
    {
     "name": "stdout",
     "output_type": "stream",
     "text": [
      "The country with the most unicorns is United States with 6 unicorns.\n"
     ]
    }
   ],
   "source": [
    "\n",
    "# Count the number of unicorns in each country\n",
    "unicorn_counts_by_country = unicorn_data['Country of Origin'].value_counts()\n",
    "\n",
    "# Print the country with the most unicorns\n",
    "print(\"The country with the most unicorns is\", unicorn_counts_by_country.idxmax(), \"with\", unicorn_counts_by_country.max(), \"unicorns.\")\n",
    "\n"
   ]
  },
  {
   "cell_type": "code",
   "execution_count": 27,
   "id": "eef91138",
   "metadata": {},
   "outputs": [
    {
     "name": "stdout",
     "output_type": "stream",
     "text": [
      "Top 5 investors by number of unicorns funded:\n",
      "Sequoia Capital - 7 unicorns\n",
      "Andreessen Horowitz - 4 unicorns\n",
      "SoftBank - 3 unicorns\n",
      "General Atlantic - 2 unicorns\n",
      "Tiger Global Management - 2 unicorns\n"
     ]
    }
   ],
   "source": [
    "\n",
    "\n",
    "# Extract investor data from 'Select Investors' column\n",
    "investor_data = unicorn_data['Select Investors'].str.split(',')\n",
    "\n",
    "# Create a dictionary to store investor counts\n",
    "investor_counts = {}\n",
    "\n",
    "# Count the occurrences of each investor\n",
    "for investors in investor_data:\n",
    "    for investor in investors:\n",
    "        investor_counts[investor.strip()] = investor_counts.get(investor.strip(), 0) + 1\n",
    "\n",
    "# Sort the investor counts in descending order\n",
    "sorted_investor_counts = dict(sorted(investor_counts.items(), key=lambda x: x[1], reverse=True))\n",
    "\n",
    "# Convert dict_items to list\n",
    "sorted_investor_counts_list = list(sorted_investor_counts.items())[:5]\n",
    "\n",
    "# Print the top 5 investors\n",
    "print(\"Top 5 investors by number of unicorns funded:\")\n",
    "for investor, count in sorted_investor_counts_list:\n",
    "    print(investor, \"-\", count, \"unicorns\")\n",
    "\n",
    "\n"
   ]
  },
  {
   "cell_type": "code",
   "execution_count": 29,
   "id": "1c68792f",
   "metadata": {},
   "outputs": [
    {
     "data": {
      "image/png": "[encoded data removed]",
      "text/plain": [
       "<Figure size 640x480 with 1 Axes>"
      ]
     },
     "metadata": {},
     "output_type": "display_data"
    }
   ],
   "source": [
    "# Univariate Analysis\n",
    "# Distribution of valuation\n",
    "plt.hist(unicorn_data['Current Valuation ($ Billion)'])\n",
    "plt.xlabel('Valuation ($ Billion)')\n",
    "plt.ylabel('Frequency')\n",
    "plt.title('Distribution of Unicorn Valuations')\n",
    "plt.show()"
   ]
  },
  {
   "cell_type": "markdown",
   "id": "61c67eba",
   "metadata": {},
   "source": [
    "## Valuation Distribution:\n",
    "The skewed distribution of valuations suggests that a few companies dominate the unicorn landscape. To improve their chances of achieving unicorn status, companies should focus on developing innovative and disruptive products or services that address significant market needs."
   ]
  },
  {
   "cell_type": "code",
   "execution_count": 30,
   "id": "17a8df00",
   "metadata": {},
   "outputs": [
    {
     "data": {
      "image/png": "[encoded data removed]",
      "text/plain": [
       "<Figure size 640x480 with 1 Axes>"
      ]
     },
     "metadata": {},
     "output_type": "display_data"
    }
   ],
   "source": [
    "# Distribution of funding\n",
    "plt.hist(unicorn_data['Funding ($ Billion)'])\n",
    "plt.xlabel('Funding ($ Billion)')\n",
    "plt.ylabel('Frequency')\n",
    "plt.title('Distribution of Unicorn Funding')\n",
    "plt.show()\n"
   ]
  },
  {
   "cell_type": "code",
   "execution_count": 31,
   "id": "680145c2",
   "metadata": {},
   "outputs": [
    {
     "data": {
      "image/png": "[encoded data removed]",
      "text/plain": [
       "<Figure size 640x480 with 1 Axes>"
      ]
     },
     "metadata": {},
     "output_type": "display_data"
    }
   ],
   "source": [
    "# Distribution of time to unicorn status\n",
    "plt.hist(unicorn_data['Time to Unicorn (Years)'])\n",
    "plt.xlabel('Time to Unicorn (Years)')\n",
    "plt.ylabel('Frequency')\n",
    "plt.title('Distribution of Time to Unicorn Status')\n",
    "plt.show()"
   ]
  },
  {
   "cell_type": "code",
   "execution_count": 33,
   "id": "99758838",
   "metadata": {},
   "outputs": [
    {
     "name": "stdout",
     "output_type": "stream",
     "text": [
      "Correlation between valuation and funding: 0.41743573663321887\n"
     ]
    }
   ],
   "source": [
    "# Bivariate Analysis\n",
    "# Correlation between valuation and funding\n",
    "correlation_valuation_funding = unicorn_data['Current Valuation ($ Billion)'].corr(unicorn_data['Funding ($ Billion)'])\n",
    "print(\"Correlation between valuation and funding:\", correlation_valuation_funding)"
   ]
  },
  {
   "cell_type": "code",
   "execution_count": 34,
   "id": "4d0891a5",
   "metadata": {},
   "outputs": [
    {
     "data": {
      "image/png": "[encoded data removed]",
      "text/plain": [
       "<Figure size 640x480 with 1 Axes>"
      ]
     },
     "metadata": {},
     "output_type": "display_data"
    }
   ],
   "source": [
    "# Scatter plot of valuation and funding\n",
    "plt.scatter(unicorn_data['Current Valuation ($ Billion)'], unicorn_data['Funding ($ Billion)'])\n",
    "plt.xlabel('Valuation ($ Billion)')\n",
    "plt.ylabel('Funding ($ Billion)')\n",
    "plt.title('Scatter Plot of Unicorn Valuation vs. Funding')\n",
    "plt.show()\n"
   ]
  },
  {
   "cell_type": "code",
   "execution_count": 35,
   "id": "c412248a",
   "metadata": {},
   "outputs": [
    {
     "name": "stdout",
     "output_type": "stream",
     "text": [
      "Correlation between time to unicorn and year of founding: -0.7876663491346879\n"
     ]
    }
   ],
   "source": [
    "# Correlation between time to unicorn and year of founding\n",
    "correlation_time_to_unicorn_founding = unicorn_data['Time to Unicorn (Years)'].corr(unicorn_data['Founded'])\n",
    "print(\"Correlation between time to unicorn and year of founding:\", correlation_time_to_unicorn_founding)\n"
   ]
  },
  {
   "cell_type": "markdown",
   "id": "a3dde835",
   "metadata": {},
   "source": [
    "## Correlation between Time to Unicorn and Year of Founding: \n",
    "The negative correlation between time to unicorn and year of founding suggests that companies founded in recent years are becoming unicorns faster. To accelerate their path to unicorn status, companies should stay up-to-date with industry trends, adapt to changing market dynamics, and leverage emerging technologies effectively."
   ]
  },
  {
   "cell_type": "code",
   "execution_count": 36,
   "id": "f9605848",
   "metadata": {},
   "outputs": [
    {
     "data": {
      "image/png": "[encoded data removed]",
      "text/plain": [
       "<Figure size 640x480 with 1 Axes>"
      ]
     },
     "metadata": {},
     "output_type": "display_data"
    }
   ],
   "source": [
    "# Scatter plot of time to unicorn and year of founding\n",
    "plt.scatter(unicorn_data['Time to Unicorn (Years)'], unicorn_data['Founded'])\n",
    "plt.xlabel('Time to Unicorn (Years)')\n",
    "plt.ylabel('Year of Founding')\n",
    "plt.title('Scatter Plot of Time to Unicorn vs. Year of Founding')\n",
    "plt.show()\n"
   ]
  },
  {
   "cell_type": "code",
   "execution_count": 37,
   "id": "7a13f822",
   "metadata": {},
   "outputs": [
    {
     "data": {
      "image/png": "[encoded data removed]",
      "text/plain": [
       "<Figure size 640x480 with 1 Axes>"
      ]
     },
     "metadata": {},
     "output_type": "display_data"
    }
   ],
   "source": [
    "# Multivariate Analysis\n",
    "# Impact of industry on valuation\n",
    "industry_valuation_groups = unicorn_data.groupby('Industry')['Current Valuation ($ Billion)'].mean()\n",
    "industry_valuation_groups.plot(kind='bar')\n",
    "plt.xlabel('Industry')\n",
    "plt.ylabel('Average Valuation ($ Billion)')\n",
    "plt.title('Average Unicorn Valuation by Industry')\n",
    "plt.show()"
   ]
  },
  {
   "cell_type": "markdown",
   "id": "98ae1b4a",
   "metadata": {},
   "source": [
    "##  Impact of Industry on Valuation:\n",
    "The varying average valuations across industries highlight the importance of choosing the right industry for a startup's growth potential. Companies should carefully evaluate their target market, assess the competitive landscape, and identify industries with high growth potential and favorable regulatory environments"
   ]
  },
  {
   "cell_type": "code",
   "execution_count": 38,
   "id": "fa69aa1c",
   "metadata": {},
   "outputs": [
    {
     "data": {
      "image/png": "[encoded data removed]",
      "text/plain": [
       "<Figure size 640x480 with 1 Axes>"
      ]
     },
     "metadata": {},
     "output_type": "display_data"
    }
   ],
   "source": [
    "# Impact of country of origin on funding\n",
    "country_funding_groups = unicorn_data.groupby('Country of Origin')['Funding ($ Billion)'].mean()\n",
    "country_funding_groups.plot(kind='bar')\n",
    "plt.xlabel('Country of Origin')\n",
    "plt.ylabel('Average Funding ($ Billion)')\n",
    "plt.title('Average Unicorn Funding by Country of Origin')\n",
    "plt.show()\n"
   ]
  },
  {
   "cell_type": "markdown",
   "id": "35ecd955",
   "metadata": {},
   "source": [
    "## impact of Country of Origin on Funding: \n",
    "The differences in average funding across countries suggest that access to capital varies depending on location. Companies should consider establishing operations or expanding into countries with strong investment ecosystems and a track record of supporting startups."
   ]
  },
  {
   "cell_type": "code",
   "execution_count": null,
   "id": "c5d123fd",
   "metadata": {},
   "outputs": [],
   "source": []
  }
 ],
 "metadata": {
  "kernelspec": {
   "display_name": "Python 3 (ipykernel)",
   "language": "python",
   "name": "python3"
  },
  "language_info": {
   "codemirror_mode": {
    "name": "ipython",
    "version": 3
   },
   "file_extension": ".py",
   "mimetype": "text/x-python",
   "name": "python",
   "nbconvert_exporter": "python",
   "pygments_lexer": "ipython3",
   "version": "3.11.3"
  }
 },
 "nbformat": 4,
 "nbformat_minor": 5
}
